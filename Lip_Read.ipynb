{
 "cells": [
  {
   "cell_type": "code",
   "execution_count": 1,
   "id": "9b0f7bd8",
   "metadata": {},
   "outputs": [
    {
     "name": "stdout",
     "output_type": "stream",
     "text": [
      "Requirement already satisfied: opencv-python in c:\\users\\aakas\\anaconda3\\lib\\site-packages (4.7.0.72)\n",
      "Requirement already satisfied: matplotlib in c:\\users\\aakas\\anaconda3\\lib\\site-packages (3.5.2)\n",
      "Requirement already satisfied: imageio in c:\\users\\aakas\\anaconda3\\lib\\site-packages (2.19.3)\n",
      "Collecting gdown\n",
      "  Using cached gdown-4.7.1-py3-none-any.whl (15 kB)\n",
      "Requirement already satisfied: tensorflow in c:\\users\\aakas\\anaconda3\\lib\\site-packages (2.10.0)\n",
      "Requirement already satisfied: numpy>=1.19.3 in c:\\users\\aakas\\anaconda3\\lib\\site-packages (from opencv-python) (1.24.4)\n",
      "Requirement already satisfied: fonttools>=4.22.0 in c:\\users\\aakas\\anaconda3\\lib\\site-packages (from matplotlib) (4.25.0)\n",
      "Requirement already satisfied: packaging>=20.0 in c:\\users\\aakas\\anaconda3\\lib\\site-packages (from matplotlib) (23.0)\n",
      "Requirement already satisfied: cycler>=0.10 in c:\\users\\aakas\\anaconda3\\lib\\site-packages (from matplotlib) (0.11.0)\n",
      "Requirement already satisfied: pyparsing>=2.2.1 in c:\\users\\aakas\\anaconda3\\lib\\site-packages (from matplotlib) (3.0.9)\n",
      "Requirement already satisfied: pillow>=6.2.0 in c:\\users\\aakas\\anaconda3\\lib\\site-packages (from matplotlib) (9.4.0)\n",
      "Requirement already satisfied: python-dateutil>=2.7 in c:\\users\\aakas\\anaconda3\\lib\\site-packages (from matplotlib) (2.8.2)\n",
      "Requirement already satisfied: kiwisolver>=1.0.1 in c:\\users\\aakas\\anaconda3\\lib\\site-packages (from matplotlib) (1.4.2)\n",
      "Requirement already satisfied: beautifulsoup4 in c:\\users\\aakas\\anaconda3\\lib\\site-packages (from gdown) (4.11.1)\n",
      "Requirement already satisfied: requests[socks] in c:\\users\\aakas\\anaconda3\\lib\\site-packages (from gdown) (2.29.0)\n",
      "Requirement already satisfied: tqdm in c:\\users\\aakas\\anaconda3\\lib\\site-packages (from gdown) (4.65.0)\n",
      "Requirement already satisfied: filelock in c:\\users\\aakas\\anaconda3\\lib\\site-packages (from gdown) (3.10.0)\n",
      "Requirement already satisfied: six in c:\\users\\aakas\\anaconda3\\lib\\site-packages (from gdown) (1.16.0)\n",
      "Requirement already satisfied: h5py>=2.9.0 in c:\\users\\aakas\\anaconda3\\lib\\site-packages (from tensorflow) (3.7.0)\n",
      "Requirement already satisfied: keras-preprocessing>=1.1.1 in c:\\users\\aakas\\anaconda3\\lib\\site-packages (from tensorflow) (1.1.2)\n",
      "Requirement already satisfied: typing-extensions>=3.6.6 in c:\\users\\aakas\\anaconda3\\lib\\site-packages (from tensorflow) (4.7.1)\n",
      "Requirement already satisfied: grpcio<2.0,>=1.24.3 in c:\\users\\aakas\\anaconda3\\lib\\site-packages (from tensorflow) (1.51.1)\n",
      "Requirement already satisfied: absl-py>=1.0.0 in c:\\users\\aakas\\anaconda3\\lib\\site-packages (from tensorflow) (1.4.0)\n",
      "Requirement already satisfied: opt-einsum>=2.3.2 in c:\\users\\aakas\\anaconda3\\lib\\site-packages (from tensorflow) (3.3.0)\n",
      "Collecting protobuf<3.20,>=3.9.2\n",
      "  Using cached protobuf-3.19.6-cp39-cp39-win_amd64.whl (895 kB)\n",
      "Requirement already satisfied: flatbuffers>=2.0 in c:\\users\\aakas\\anaconda3\\lib\\site-packages (from tensorflow) (23.1.21)\n",
      "Requirement already satisfied: tensorflow-io-gcs-filesystem>=0.23.1 in c:\\users\\aakas\\anaconda3\\lib\\site-packages (from tensorflow) (0.30.0)\n",
      "Requirement already satisfied: astunparse>=1.6.0 in c:\\users\\aakas\\anaconda3\\lib\\site-packages (from tensorflow) (1.6.3)\n",
      "Requirement already satisfied: termcolor>=1.1.0 in c:\\users\\aakas\\anaconda3\\lib\\site-packages (from tensorflow) (2.2.0)\n",
      "Requirement already satisfied: wrapt>=1.11.0 in c:\\users\\aakas\\anaconda3\\lib\\site-packages (from tensorflow) (1.14.1)\n",
      "Requirement already satisfied: google-pasta>=0.1.1 in c:\\users\\aakas\\anaconda3\\lib\\site-packages (from tensorflow) (0.2.0)\n",
      "Collecting gast<=0.4.0,>=0.2.1\n",
      "  Using cached gast-0.4.0-py3-none-any.whl (9.8 kB)\n",
      "Requirement already satisfied: keras<2.11,>=2.10.0 in c:\\users\\aakas\\anaconda3\\lib\\site-packages (from tensorflow) (2.10.0)\n",
      "Requirement already satisfied: libclang>=13.0.0 in c:\\users\\aakas\\anaconda3\\lib\\site-packages (from tensorflow) (15.0.6.1)\n",
      "Requirement already satisfied: tensorflow-estimator<2.11,>=2.10.0 in c:\\users\\aakas\\anaconda3\\lib\\site-packages (from tensorflow) (2.10.0)\n",
      "Requirement already satisfied: setuptools in c:\\users\\aakas\\anaconda3\\lib\\site-packages (from tensorflow) (67.7.2)\n",
      "Requirement already satisfied: tensorboard<2.11,>=2.10 in c:\\users\\aakas\\anaconda3\\lib\\site-packages (from tensorflow) (2.10.1)\n",
      "Requirement already satisfied: wheel<1.0,>=0.23.0 in c:\\users\\aakas\\anaconda3\\lib\\site-packages (from astunparse>=1.6.0->tensorflow) (0.37.1)\n",
      "Requirement already satisfied: tensorboard-data-server<0.7.0,>=0.6.0 in c:\\users\\aakas\\anaconda3\\lib\\site-packages (from tensorboard<2.11,>=2.10->tensorflow) (0.6.1)\n",
      "Requirement already satisfied: google-auth<3,>=1.6.3 in c:\\users\\aakas\\anaconda3\\lib\\site-packages (from tensorboard<2.11,>=2.10->tensorflow) (2.16.0)\n",
      "Requirement already satisfied: tensorboard-plugin-wit>=1.6.0 in c:\\users\\aakas\\anaconda3\\lib\\site-packages (from tensorboard<2.11,>=2.10->tensorflow) (1.8.1)\n",
      "Requirement already satisfied: google-auth-oauthlib<0.5,>=0.4.1 in c:\\users\\aakas\\anaconda3\\lib\\site-packages (from tensorboard<2.11,>=2.10->tensorflow) (0.4.6)\n",
      "Requirement already satisfied: werkzeug>=1.0.1 in c:\\users\\aakas\\anaconda3\\lib\\site-packages (from tensorboard<2.11,>=2.10->tensorflow) (2.0.3)\n",
      "Requirement already satisfied: markdown>=2.6.8 in c:\\users\\aakas\\anaconda3\\lib\\site-packages (from tensorboard<2.11,>=2.10->tensorflow) (3.3.4)\n",
      "Requirement already satisfied: soupsieve>1.2 in c:\\users\\aakas\\anaconda3\\lib\\site-packages (from beautifulsoup4->gdown) (2.3.1)\n",
      "Requirement already satisfied: certifi>=2017.4.17 in c:\\users\\aakas\\anaconda3\\lib\\site-packages (from requests[socks]->gdown) (2023.5.7)\n",
      "Requirement already satisfied: urllib3<1.27,>=1.21.1 in c:\\users\\aakas\\anaconda3\\lib\\site-packages (from requests[socks]->gdown) (1.26.15)\n",
      "Requirement already satisfied: idna<4,>=2.5 in c:\\users\\aakas\\anaconda3\\lib\\site-packages (from requests[socks]->gdown) (3.4)\n",
      "Requirement already satisfied: charset-normalizer<4,>=2 in c:\\users\\aakas\\anaconda3\\lib\\site-packages (from requests[socks]->gdown) (3.1.0)\n",
      "Requirement already satisfied: PySocks!=1.5.7,>=1.5.6 in c:\\users\\aakas\\anaconda3\\lib\\site-packages (from requests[socks]->gdown) (1.7.1)\n",
      "Requirement already satisfied: colorama in c:\\users\\aakas\\anaconda3\\lib\\site-packages (from tqdm->gdown) (0.4.6)\n",
      "Requirement already satisfied: pyasn1-modules>=0.2.1 in c:\\users\\aakas\\anaconda3\\lib\\site-packages (from google-auth<3,>=1.6.3->tensorboard<2.11,>=2.10->tensorflow) (0.2.8)\n",
      "Requirement already satisfied: cachetools<6.0,>=2.0.0 in c:\\users\\aakas\\anaconda3\\lib\\site-packages (from google-auth<3,>=1.6.3->tensorboard<2.11,>=2.10->tensorflow) (5.3.0)\n",
      "Requirement already satisfied: rsa<5,>=3.1.4 in c:\\users\\aakas\\anaconda3\\lib\\site-packages (from google-auth<3,>=1.6.3->tensorboard<2.11,>=2.10->tensorflow) (4.9)\n",
      "Requirement already satisfied: requests-oauthlib>=0.7.0 in c:\\users\\aakas\\anaconda3\\lib\\site-packages (from google-auth-oauthlib<0.5,>=0.4.1->tensorboard<2.11,>=2.10->tensorflow) (1.3.1)\n",
      "Requirement already satisfied: pyasn1<0.5.0,>=0.4.6 in c:\\users\\aakas\\anaconda3\\lib\\site-packages (from pyasn1-modules>=0.2.1->google-auth<3,>=1.6.3->tensorboard<2.11,>=2.10->tensorflow) (0.4.8)\n",
      "Requirement already satisfied: oauthlib>=3.0.0 in c:\\users\\aakas\\anaconda3\\lib\\site-packages (from requests-oauthlib>=0.7.0->google-auth-oauthlib<0.5,>=0.4.1->tensorboard<2.11,>=2.10->tensorflow) (3.2.2)\n",
      "Installing collected packages: protobuf, gast, gdown\n",
      "  Attempting uninstall: protobuf\n",
      "    Found existing installation: protobuf 3.20.1\n",
      "    Uninstalling protobuf-3.20.1:\n",
      "      Successfully uninstalled protobuf-3.20.1\n",
      "  Attempting uninstall: gast\n",
      "    Found existing installation: gast 0.5.3\n",
      "    Uninstalling gast-0.5.3:\n",
      "      Successfully uninstalled gast-0.5.3\n",
      "Successfully installed gast-0.4.0 gdown-4.7.1 protobuf-3.19.6\n"
     ]
    },
    {
     "name": "stderr",
     "output_type": "stream",
     "text": [
      "WARNING: Ignoring invalid distribution -rotobuf (c:\\users\\aakas\\anaconda3\\lib\\site-packages)\n",
      "WARNING: Ignoring invalid distribution -ensorflow (c:\\users\\aakas\\anaconda3\\lib\\site-packages)\n",
      "WARNING: Ignoring invalid distribution -ensorflow-estimator (c:\\users\\aakas\\anaconda3\\lib\\site-packages)\n",
      "WARNING: Ignoring invalid distribution -cipy (c:\\users\\aakas\\anaconda3\\lib\\site-packages)\n",
      "WARNING: Ignoring invalid distribution -rotobuf (c:\\users\\aakas\\anaconda3\\lib\\site-packages)\n",
      "WARNING: Ignoring invalid distribution -ensorflow (c:\\users\\aakas\\anaconda3\\lib\\site-packages)\n",
      "WARNING: Ignoring invalid distribution -ensorflow-estimator (c:\\users\\aakas\\anaconda3\\lib\\site-packages)\n",
      "WARNING: Ignoring invalid distribution -cipy (c:\\users\\aakas\\anaconda3\\lib\\site-packages)\n",
      "WARNING: Ignoring invalid distribution -rotobuf (c:\\users\\aakas\\anaconda3\\lib\\site-packages)\n",
      "WARNING: Ignoring invalid distribution -ensorflow (c:\\users\\aakas\\anaconda3\\lib\\site-packages)\n",
      "WARNING: Ignoring invalid distribution -ensorflow-estimator (c:\\users\\aakas\\anaconda3\\lib\\site-packages)\n",
      "WARNING: Ignoring invalid distribution -cipy (c:\\users\\aakas\\anaconda3\\lib\\site-packages)\n",
      "    WARNING: Ignoring invalid distribution -rotobuf (c:\\users\\aakas\\anaconda3\\lib\\site-packages)\n",
      "    WARNING: Ignoring invalid distribution -ensorflow (c:\\users\\aakas\\anaconda3\\lib\\site-packages)\n",
      "    WARNING: Ignoring invalid distribution -ensorflow-estimator (c:\\users\\aakas\\anaconda3\\lib\\site-packages)\n",
      "    WARNING: Ignoring invalid distribution -cipy (c:\\users\\aakas\\anaconda3\\lib\\site-packages)\n",
      "    WARNING: Ignoring invalid distribution -rotobuf (c:\\users\\aakas\\anaconda3\\lib\\site-packages)\n",
      "    WARNING: Ignoring invalid distribution -ensorflow (c:\\users\\aakas\\anaconda3\\lib\\site-packages)\n",
      "    WARNING: Ignoring invalid distribution -ensorflow-estimator (c:\\users\\aakas\\anaconda3\\lib\\site-packages)\n",
      "    WARNING: Ignoring invalid distribution -cipy (c:\\users\\aakas\\anaconda3\\lib\\site-packages)\n",
      "WARNING: Ignoring invalid distribution -rotobuf (c:\\users\\aakas\\anaconda3\\lib\\site-packages)\n",
      "WARNING: Ignoring invalid distribution -ensorflow (c:\\users\\aakas\\anaconda3\\lib\\site-packages)\n",
      "WARNING: Ignoring invalid distribution -ensorflow-estimator (c:\\users\\aakas\\anaconda3\\lib\\site-packages)\n",
      "WARNING: Ignoring invalid distribution -cipy (c:\\users\\aakas\\anaconda3\\lib\\site-packages)\n",
      "WARNING: Ignoring invalid distribution -rotobuf (c:\\users\\aakas\\anaconda3\\lib\\site-packages)\n",
      "WARNING: Ignoring invalid distribution -ensorflow (c:\\users\\aakas\\anaconda3\\lib\\site-packages)\n",
      "WARNING: Ignoring invalid distribution -ensorflow-estimator (c:\\users\\aakas\\anaconda3\\lib\\site-packages)\n",
      "WARNING: Ignoring invalid distribution -cipy (c:\\users\\aakas\\anaconda3\\lib\\site-packages)\n",
      "WARNING: Ignoring invalid distribution -rotobuf (c:\\users\\aakas\\anaconda3\\lib\\site-packages)\n",
      "WARNING: Ignoring invalid distribution -ensorflow (c:\\users\\aakas\\anaconda3\\lib\\site-packages)\n",
      "WARNING: Ignoring invalid distribution -ensorflow-estimator (c:\\users\\aakas\\anaconda3\\lib\\site-packages)\n",
      "WARNING: Ignoring invalid distribution -cipy (c:\\users\\aakas\\anaconda3\\lib\\site-packages)\n",
      "ERROR: pip's dependency resolver does not currently take into account all the packages that are installed. This behaviour is the source of the following dependency conflicts.\n",
      "tf-models-official 2.12.0 requires gin-config, which is not installed.\n",
      "tf-models-official 2.12.0 requires google-api-python-client>=1.6.7, which is not installed.\n",
      "tf-models-official 2.12.0 requires immutabledict, which is not installed.\n",
      "tf-models-official 2.12.0 requires kaggle>=1.3.9, which is not installed.\n",
      "tf-models-official 2.12.0 requires oauth2client, which is not installed.\n",
      "tf-models-official 2.12.0 requires opencv-python-headless, which is not installed.\n",
      "tf-models-official 2.12.0 requires py-cpuinfo>=3.3.0, which is not installed.\n",
      "tf-models-official 2.12.0 requires pycocotools, which is not installed.\n",
      "tf-models-official 2.12.0 requires seqeval, which is not installed.\n",
      "tf-models-official 2.12.0 requires tensorflow-addons, which is not installed.\n",
      "tf-models-official 2.12.0 requires tensorflow-datasets, which is not installed.\n",
      "tf-models-official 2.12.0 requires tensorflow-hub>=0.6.0, which is not installed.\n",
      "tf-models-official 2.12.0 requires tensorflow-model-optimization>=0.4.1, which is not installed.\n",
      "tf-models-official 2.12.0 requires tensorflow-text~=2.12.0, which is not installed.\n",
      "tensorflow-intel 2.11.0 requires keras<2.12,>=2.11.0, but you have keras 2.10.0 which is incompatible.\n",
      "tensorflow-intel 2.11.0 requires tensorboard<2.12,>=2.11, but you have tensorboard 2.10.1 which is incompatible.\n",
      "tensorflow-intel 2.11.0 requires tensorflow-estimator<2.12,>=2.11.0, but you have tensorflow-estimator 2.10.0 which is incompatible.\n",
      "tf-models-official 2.12.0 requires pyyaml<6.0,>=5.1, but you have pyyaml 6.0 which is incompatible.\n",
      "tf-models-official 2.12.0 requires tensorflow~=2.12.0, but you have tensorflow 2.10.0 which is incompatible.\n",
      "WARNING: Ignoring invalid distribution -rotobuf (c:\\users\\aakas\\anaconda3\\lib\\site-packages)\n",
      "WARNING: Ignoring invalid distribution -ensorflow (c:\\users\\aakas\\anaconda3\\lib\\site-packages)\n",
      "WARNING: Ignoring invalid distribution -ensorflow-estimator (c:\\users\\aakas\\anaconda3\\lib\\site-packages)\n",
      "WARNING: Ignoring invalid distribution -cipy (c:\\users\\aakas\\anaconda3\\lib\\site-packages)\n",
      "WARNING: Ignoring invalid distribution -rotobuf (c:\\users\\aakas\\anaconda3\\lib\\site-packages)\n",
      "WARNING: Ignoring invalid distribution -ensorflow (c:\\users\\aakas\\anaconda3\\lib\\site-packages)\n",
      "WARNING: Ignoring invalid distribution -ensorflow-estimator (c:\\users\\aakas\\anaconda3\\lib\\site-packages)\n",
      "WARNING: Ignoring invalid distribution -cipy (c:\\users\\aakas\\anaconda3\\lib\\site-packages)\n",
      "WARNING: Ignoring invalid distribution -rotobuf (c:\\users\\aakas\\anaconda3\\lib\\site-packages)\n",
      "WARNING: Ignoring invalid distribution -ensorflow (c:\\users\\aakas\\anaconda3\\lib\\site-packages)\n",
      "WARNING: Ignoring invalid distribution -ensorflow-estimator (c:\\users\\aakas\\anaconda3\\lib\\site-packages)\n",
      "WARNING: Ignoring invalid distribution -cipy (c:\\users\\aakas\\anaconda3\\lib\\site-packages)\n"
     ]
    }
   ],
   "source": [
    "!pip install opencv-python matplotlib imageio gdown tensorflow"
   ]
  },
  {
   "cell_type": "code",
   "execution_count": 2,
   "id": "6594510d",
   "metadata": {},
   "outputs": [],
   "source": [
    "import os\n",
    "import cv2\n",
    "import tensorflow as tf\n",
    "import numpy as np\n",
    "from typing import List\n",
    "from matplotlib import pyplot as plt\n",
    "import imageio"
   ]
  },
  {
   "cell_type": "code",
   "execution_count": 3,
   "id": "acab9407",
   "metadata": {},
   "outputs": [],
   "source": [
    "def load_video(path:str) -> List[float]:\n",
    "\n",
    "  cap = cv2.VideoCapture(path)\n",
    "  frames =[]\n",
    "  for _ in range(int(cap.get(cv2.CAP_PROP_FRAME_COUNT))):\n",
    "    ret, frame = cap.read()\n",
    "    frame = tf.image.rgb_to_grayscale(frame)\n",
    "    frames.append(frame[190:236,80:220,:])\n",
    "  cap.release()\n",
    "\n",
    "\n",
    "  mean = tf.math.reduce_mean(frames)\n",
    "  std = tf.math.reduce_std(tf.cast(frames,tf.float32))\n",
    "  return tf.cast((frames-mean), tf.float32) / std"
   ]
  },
  {
   "cell_type": "code",
   "execution_count": 4,
   "id": "6fba33d8",
   "metadata": {},
   "outputs": [],
   "source": [
    "vocab = [x for x in \"abcdefghijklmnopqrstuvwxyz'?!123456789 \"]"
   ]
  },
  {
   "cell_type": "code",
   "execution_count": 5,
   "id": "cd1744e2",
   "metadata": {},
   "outputs": [
    {
     "name": "stdout",
     "output_type": "stream",
     "text": [
      "The vocabulary is : ['', 'a', 'b', 'c', 'd', 'e', 'f', 'g', 'h', 'i', 'j', 'k', 'l', 'm', 'n', 'o', 'p', 'q', 'r', 's', 't', 'u', 'v', 'w', 'x', 'y', 'z', \"'\", '?', '!', '1', '2', '3', '4', '5', '6', '7', '8', '9', ' '](size = 40)\n"
     ]
    }
   ],
   "source": [
    "char_to_num = tf.keras.layers.StringLookup(vocabulary = vocab , oov_token=\"\")\n",
    "num_to_char = tf.keras.layers.StringLookup(\n",
    "    vocabulary = char_to_num.get_vocabulary(),oov_token=\"\",invert=True\n",
    ")\n",
    "\n",
    "print(\n",
    "    f\"The vocabulary is : {char_to_num.get_vocabulary()}\"\n",
    "    f\"(size = {char_to_num.vocabulary_size()})\"\n",
    ")"
   ]
  },
  {
   "cell_type": "code",
   "execution_count": 6,
   "id": "214f9dd1",
   "metadata": {},
   "outputs": [
    {
     "data": {
      "text/plain": [
       "<tf.Tensor: shape=(3,), dtype=int64, numpy=array([14,  9,  3], dtype=int64)>"
      ]
     },
     "execution_count": 6,
     "metadata": {},
     "output_type": "execute_result"
    }
   ],
   "source": [
    "char_to_num(['n','i','c'])"
   ]
  },
  {
   "cell_type": "code",
   "execution_count": 7,
   "id": "4c4f48bf",
   "metadata": {},
   "outputs": [],
   "source": [
    "def load_alignments(path:str) -> List[str]: \n",
    "    with open(path, 'r') as f: \n",
    "        lines = f.readlines() \n",
    "    tokens = []\n",
    "    for line in lines:\n",
    "        line = line.split()\n",
    "        if line[2] != 'sil': \n",
    "            tokens = [*tokens,' ',line[2]]\n",
    "    return char_to_num(tf.reshape(tf.strings.unicode_split(tokens, input_encoding='UTF-8'), (-1)))[1:]"
   ]
  },
  {
   "cell_type": "code",
   "execution_count": 8,
   "id": "d6f28020",
   "metadata": {},
   "outputs": [],
   "source": [
    "def load_data(path: str): \n",
    "    path = bytes.decode(path.numpy())\n",
    "    #file_name = path.split('/')[-1].split('.')[0]\n",
    "    # File name splitting for windows\n",
    "    file_name = path.split('\\\\')[-1].split('.')[0]\n",
    "    video_path = os.path.join('data','s1',f'{file_name}.mpg')\n",
    "    alignment_path = os.path.join('data','alignments','s1',f'{file_name}.align')\n",
    "    frames = load_video(video_path) \n",
    "    alignments = load_alignments(alignment_path)\n",
    "    \n",
    "    return frames, alignments"
   ]
  },
  {
   "cell_type": "code",
   "execution_count": 9,
   "id": "1ad3125b",
   "metadata": {},
   "outputs": [],
   "source": [
    "test_path = '.\\\\data\\\\s1\\\\bbal6n.mpg'"
   ]
  },
  {
   "cell_type": "code",
   "execution_count": 10,
   "id": "ce0d1f04",
   "metadata": {},
   "outputs": [
    {
     "data": {
      "text/plain": [
       "'bbal6n'"
      ]
     },
     "execution_count": 10,
     "metadata": {},
     "output_type": "execute_result"
    }
   ],
   "source": [
    "tf.convert_to_tensor(test_path).numpy().decode('utf-8').split('\\\\')[-1].split('.')[0]"
   ]
  },
  {
   "cell_type": "code",
   "execution_count": 11,
   "id": "bb448b82",
   "metadata": {},
   "outputs": [],
   "source": [
    "frames, alignments = load_data(tf.convert_to_tensor(test_path))"
   ]
  },
  {
   "cell_type": "code",
   "execution_count": 12,
   "id": "faa1c16a",
   "metadata": {},
   "outputs": [
    {
     "data": {
      "text/plain": [
       "<matplotlib.image.AxesImage at 0x266a5f98340>"
      ]
     },
     "execution_count": 12,
     "metadata": {},
     "output_type": "execute_result"
    },
    {
     "data": {
      "image/png": "[encoded data removed]",
      "text/plain": [
       "<Figure size 640x480 with 1 Axes>"
      ]
     },
     "metadata": {},
     "output_type": "display_data"
    }
   ],
   "source": [
    "plt.imshow(frames[40])"
   ]
  },
  {
   "cell_type": "code",
   "execution_count": 13,
   "id": "4b739288",
   "metadata": {},
   "outputs": [
    {
     "data": {
      "text/plain": [
       "<tf.Tensor: shape=(21,), dtype=int64, numpy=\n",
       "array([ 2,  9, 14, 39,  2, 12, 21,  5, 39,  1, 20, 39, 12, 39, 19,  9, 24,\n",
       "       39, 14, 15, 23], dtype=int64)>"
      ]
     },
     "execution_count": 13,
     "metadata": {},
     "output_type": "execute_result"
    }
   ],
   "source": [
    "alignments"
   ]
  },
  {
   "cell_type": "code",
   "execution_count": 14,
   "id": "0194fece",
   "metadata": {},
   "outputs": [
    {
     "data": {
      "text/plain": [
       "<tf.Tensor: shape=(), dtype=string, numpy=b'bin blue at l six now'>"
      ]
     },
     "execution_count": 14,
     "metadata": {},
     "output_type": "execute_result"
    }
   ],
   "source": [
    "tf.strings.reduce_join([bytes.decode(x) for x in num_to_char(alignments.numpy()).numpy()])"
   ]
  },
  {
   "cell_type": "code",
   "execution_count": 15,
   "id": "b35136e3",
   "metadata": {},
   "outputs": [],
   "source": [
    "def mappable_function(path:str) ->List[str]:\n",
    "    result = tf.py_function(load_data, [path], (tf.float32, tf.int64))\n",
    "    return result"
   ]
  },
  {
   "cell_type": "markdown",
   "id": "8f5e6961",
   "metadata": {},
   "source": [
    "2. Create Data Pipeline"
   ]
  },
  {
   "cell_type": "code",
   "execution_count": 16,
   "id": "6fe17da4",
   "metadata": {},
   "outputs": [],
   "source": [
    "data = tf.data.Dataset.list_files('./data/s1/*.mpg')\n",
    "data = data.shuffle(500, reshuffle_each_iteration=False)\n",
    "data = data.map(mappable_function)\n",
    "data = data.padded_batch(2, padded_shapes=([75,None,None,None],[40]))\n",
    "data = data.prefetch(tf.data.AUTOTUNE)\n",
    "# Added for split \n",
    "train = data.take(450)\n",
    "test = data.skip(450)"
   ]
  },
  {
   "cell_type": "code",
   "execution_count": 18,
   "id": "d65cc78e",
   "metadata": {},
   "outputs": [
    {
     "data": {
      "text/plain": [
       "50"
      ]
     },
     "execution_count": 18,
     "metadata": {},
     "output_type": "execute_result"
    }
   ],
   "source": [
    "len(test)"
   ]
  },
  {
   "cell_type": "code",
   "execution_count": 19,
   "id": "1b7e93c7",
   "metadata": {},
   "outputs": [],
   "source": [
    "frames, alignments = data.as_numpy_iterator().next()"
   ]
  },
  {
   "cell_type": "code",
   "execution_count": 20,
   "id": "a343a50c",
   "metadata": {},
   "outputs": [
    {
     "data": {
      "text/plain": [
       "2"
      ]
     },
     "execution_count": 20,
     "metadata": {},
     "output_type": "execute_result"
    }
   ],
   "source": [
    "len(frames)"
   ]
  },
  {
   "cell_type": "code",
   "execution_count": 22,
   "id": "b4735a69",
   "metadata": {},
   "outputs": [
    {
     "data": {
      "text/plain": [
       "array([[[[[0.94503623],\n",
       "          [1.0206392 ],\n",
       "          [0.6804261 ],\n",
       "          ...,\n",
       "          [0.26461014],\n",
       "          [0.2268087 ],\n",
       "          [0.2268087 ]],\n",
       "\n",
       "         [[0.86943334],\n",
       "          [1.0206392 ],\n",
       "          [0.34021306],\n",
       "          ...,\n",
       "          [0.26461014],\n",
       "          [0.2268087 ],\n",
       "          [0.2268087 ]],\n",
       "\n",
       "         [[1.4742565 ],\n",
       "          [1.4364551 ],\n",
       "          [1.1340435 ],\n",
       "          ...,\n",
       "          [0.34021306],\n",
       "          [0.2268087 ],\n",
       "          [0.2268087 ]],\n",
       "\n",
       "         ...,\n",
       "\n",
       "         [[1.0584406 ],\n",
       "          [1.0584406 ],\n",
       "          [1.0584406 ],\n",
       "          ...,\n",
       "          [0.        ],\n",
       "          [9.63937   ],\n",
       "          [9.63937   ]],\n",
       "\n",
       "         [[1.0206392 ],\n",
       "          [1.0206392 ],\n",
       "          [1.0206392 ],\n",
       "          ...,\n",
       "          [0.        ],\n",
       "          [9.63937   ],\n",
       "          [9.63937   ]],\n",
       "\n",
       "         [[1.0206392 ],\n",
       "          [1.0206392 ],\n",
       "          [1.0206392 ],\n",
       "          ...,\n",
       "          [0.        ],\n",
       "          [9.63937   ],\n",
       "          [9.601568  ]]],\n",
       "\n",
       "\n",
       "        [[[1.0206392 ],\n",
       "          [1.0962421 ],\n",
       "          [0.6426246 ],\n",
       "          ...,\n",
       "          [0.26461014],\n",
       "          [0.18900725],\n",
       "          [0.18900725]],\n",
       "\n",
       "         [[0.9072348 ],\n",
       "          [1.0962421 ],\n",
       "          [0.3024116 ],\n",
       "          ...,\n",
       "          [0.26461014],\n",
       "          [0.18900725],\n",
       "          [0.18900725]],\n",
       "\n",
       "         [[1.3608522 ],\n",
       "          [1.3986536 ],\n",
       "          [1.0584406 ],\n",
       "          ...,\n",
       "          [0.26461014],\n",
       "          [0.2268087 ],\n",
       "          [0.2268087 ]],\n",
       "\n",
       "         ...,\n",
       "\n",
       "         [[1.0206392 ],\n",
       "          [1.0584406 ],\n",
       "          [1.0584406 ],\n",
       "          ...,\n",
       "          [0.03780145],\n",
       "          [0.        ],\n",
       "          [0.        ]],\n",
       "\n",
       "         [[0.9828377 ],\n",
       "          [1.0206392 ],\n",
       "          [1.0206392 ],\n",
       "          ...,\n",
       "          [0.        ],\n",
       "          [0.        ],\n",
       "          [0.        ]],\n",
       "\n",
       "         [[0.9828377 ],\n",
       "          [1.0206392 ],\n",
       "          [1.0206392 ],\n",
       "          ...,\n",
       "          [0.        ],\n",
       "          [0.        ],\n",
       "          [9.63937   ]]],\n",
       "\n",
       "\n",
       "        [[[1.0206392 ],\n",
       "          [1.0962421 ],\n",
       "          [0.6048232 ],\n",
       "          ...,\n",
       "          [0.34021306],\n",
       "          [0.18900725],\n",
       "          [0.18900725]],\n",
       "\n",
       "         [[0.86943334],\n",
       "          [1.0962421 ],\n",
       "          [0.34021306],\n",
       "          ...,\n",
       "          [0.34021306],\n",
       "          [0.18900725],\n",
       "          [0.18900725]],\n",
       "\n",
       "         [[1.3986536 ],\n",
       "          [1.4364551 ],\n",
       "          [1.0584406 ],\n",
       "          ...,\n",
       "          [0.34021306],\n",
       "          [0.26461014],\n",
       "          [0.26461014]],\n",
       "\n",
       "         ...,\n",
       "\n",
       "         [[1.0206392 ],\n",
       "          [1.0584406 ],\n",
       "          [1.0584406 ],\n",
       "          ...,\n",
       "          [0.03780145],\n",
       "          [0.        ],\n",
       "          [0.        ]],\n",
       "\n",
       "         [[1.0206392 ],\n",
       "          [1.0206392 ],\n",
       "          [1.0206392 ],\n",
       "          ...,\n",
       "          [0.        ],\n",
       "          [0.        ],\n",
       "          [0.        ]],\n",
       "\n",
       "         [[1.0206392 ],\n",
       "          [1.0206392 ],\n",
       "          [1.0206392 ],\n",
       "          ...,\n",
       "          [0.        ],\n",
       "          [0.        ],\n",
       "          [9.63937   ]]],\n",
       "\n",
       "\n",
       "        ...,\n",
       "\n",
       "\n",
       "        [[[0.8316319 ],\n",
       "          [0.9072348 ],\n",
       "          [0.8316319 ],\n",
       "          ...,\n",
       "          [0.18900725],\n",
       "          [0.18900725],\n",
       "          [0.18900725]],\n",
       "\n",
       "         [[0.8316319 ],\n",
       "          [0.756029  ],\n",
       "          [0.34021306],\n",
       "          ...,\n",
       "          [0.18900725],\n",
       "          [0.18900725],\n",
       "          [0.18900725]],\n",
       "\n",
       "         [[1.2852492 ],\n",
       "          [1.2852492 ],\n",
       "          [0.8316319 ],\n",
       "          ...,\n",
       "          [0.18900725],\n",
       "          [0.18900725],\n",
       "          [0.18900725]],\n",
       "\n",
       "         ...,\n",
       "\n",
       "         [[1.0206392 ],\n",
       "          [1.0206392 ],\n",
       "          [1.0206392 ],\n",
       "          ...,\n",
       "          [0.03780145],\n",
       "          [0.03780145],\n",
       "          [0.03780145]],\n",
       "\n",
       "         [[1.0206392 ],\n",
       "          [1.0206392 ],\n",
       "          [1.0206392 ],\n",
       "          ...,\n",
       "          [0.03780145],\n",
       "          [0.03780145],\n",
       "          [0.03780145]],\n",
       "\n",
       "         [[1.0206392 ],\n",
       "          [1.0206392 ],\n",
       "          [1.0206392 ],\n",
       "          ...,\n",
       "          [0.        ],\n",
       "          [0.        ],\n",
       "          [0.        ]]],\n",
       "\n",
       "\n",
       "        [[[0.94503623],\n",
       "          [0.94503623],\n",
       "          [0.756029  ],\n",
       "          ...,\n",
       "          [0.18900725],\n",
       "          [0.18900725],\n",
       "          [0.18900725]],\n",
       "\n",
       "         [[0.8316319 ],\n",
       "          [0.86943334],\n",
       "          [0.34021306],\n",
       "          ...,\n",
       "          [0.18900725],\n",
       "          [0.18900725],\n",
       "          [0.18900725]],\n",
       "\n",
       "         [[1.3986536 ],\n",
       "          [1.3608522 ],\n",
       "          [0.9072348 ],\n",
       "          ...,\n",
       "          [0.18900725],\n",
       "          [0.18900725],\n",
       "          [0.18900725]],\n",
       "\n",
       "         ...,\n",
       "\n",
       "         [[1.0206392 ],\n",
       "          [1.0206392 ],\n",
       "          [1.0206392 ],\n",
       "          ...,\n",
       "          [0.0756029 ],\n",
       "          [0.03780145],\n",
       "          [0.03780145]],\n",
       "\n",
       "         [[1.0206392 ],\n",
       "          [1.0206392 ],\n",
       "          [1.0206392 ],\n",
       "          ...,\n",
       "          [0.0756029 ],\n",
       "          [0.03780145],\n",
       "          [0.03780145]],\n",
       "\n",
       "         [[0.9828377 ],\n",
       "          [0.9828377 ],\n",
       "          [1.0206392 ],\n",
       "          ...,\n",
       "          [0.03780145],\n",
       "          [0.        ],\n",
       "          [0.        ]]],\n",
       "\n",
       "\n",
       "        [[[0.9072348 ],\n",
       "          [0.9072348 ],\n",
       "          [0.756029  ],\n",
       "          ...,\n",
       "          [0.2268087 ],\n",
       "          [0.18900725],\n",
       "          [0.18900725]],\n",
       "\n",
       "         [[0.79383045],\n",
       "          [0.86943334],\n",
       "          [0.26461014],\n",
       "          ...,\n",
       "          [0.2268087 ],\n",
       "          [0.18900725],\n",
       "          [0.18900725]],\n",
       "\n",
       "         [[1.3230507 ],\n",
       "          [1.2474478 ],\n",
       "          [0.79383045],\n",
       "          ...,\n",
       "          [0.18900725],\n",
       "          [0.18900725],\n",
       "          [0.18900725]],\n",
       "\n",
       "         ...,\n",
       "\n",
       "         [[0.9828377 ],\n",
       "          [0.9828377 ],\n",
       "          [0.9828377 ],\n",
       "          ...,\n",
       "          [0.0756029 ],\n",
       "          [0.0756029 ],\n",
       "          [0.03780145]],\n",
       "\n",
       "         [[0.9828377 ],\n",
       "          [0.9828377 ],\n",
       "          [0.9828377 ],\n",
       "          ...,\n",
       "          [0.0756029 ],\n",
       "          [0.0756029 ],\n",
       "          [0.03780145]],\n",
       "\n",
       "         [[0.9828377 ],\n",
       "          [0.94503623],\n",
       "          [0.9828377 ],\n",
       "          ...,\n",
       "          [0.0756029 ],\n",
       "          [0.03780145],\n",
       "          [0.03780145]]]],\n",
       "\n",
       "\n",
       "\n",
       "       [[[[1.4129001 ],\n",
       "          [1.4129001 ],\n",
       "          [1.4129001 ],\n",
       "          ...,\n",
       "          [9.164757  ],\n",
       "          [9.622995  ],\n",
       "          [9.6993685 ]],\n",
       "\n",
       "         [[1.4129001 ],\n",
       "          [1.4129001 ],\n",
       "          [1.4129001 ],\n",
       "          ...,\n",
       "          [9.164757  ],\n",
       "          [9.622995  ],\n",
       "          [9.584808  ]],\n",
       "\n",
       "         [[1.3365271 ],\n",
       "          [1.3365271 ],\n",
       "          [1.3365271 ],\n",
       "          ...,\n",
       "          [9.6993685 ],\n",
       "          [0.07637297],\n",
       "          [0.07637297]],\n",
       "\n",
       "         ...,\n",
       "\n",
       "         [[0.9546622 ],\n",
       "          [0.9546622 ],\n",
       "          [0.9546622 ],\n",
       "          ...,\n",
       "          [9.6993685 ],\n",
       "          [9.661181  ],\n",
       "          [9.661181  ]],\n",
       "\n",
       "         [[0.9546622 ],\n",
       "          [0.9546622 ],\n",
       "          [0.9546622 ],\n",
       "          ...,\n",
       "          [9.622995  ],\n",
       "          [9.622995  ],\n",
       "          [9.622995  ]],\n",
       "\n",
       "         [[0.9546622 ],\n",
       "          [0.9546622 ],\n",
       "          [0.9546622 ],\n",
       "          ...,\n",
       "          [9.622995  ],\n",
       "          [9.622995  ],\n",
       "          [9.622995  ]]],\n",
       "\n",
       "\n",
       "        [[[1.4129001 ],\n",
       "          [1.4129001 ],\n",
       "          [1.3747135 ],\n",
       "          ...,\n",
       "          [9.088385  ],\n",
       "          [9.661181  ],\n",
       "          [9.661181  ]],\n",
       "\n",
       "         [[1.3365271 ],\n",
       "          [1.3365271 ],\n",
       "          [1.2983406 ],\n",
       "          ...,\n",
       "          [9.088385  ],\n",
       "          [9.622995  ],\n",
       "          [9.661181  ]],\n",
       "\n",
       "         [[1.2983406 ],\n",
       "          [1.2983406 ],\n",
       "          [1.2983406 ],\n",
       "          ...,\n",
       "          [0.        ],\n",
       "          [0.15274595],\n",
       "          [0.15274595]],\n",
       "\n",
       "         ...,\n",
       "\n",
       "         [[0.9164757 ],\n",
       "          [0.9164757 ],\n",
       "          [0.9164757 ],\n",
       "          ...,\n",
       "          [9.6993685 ],\n",
       "          [9.622995  ],\n",
       "          [9.622995  ]],\n",
       "\n",
       "         [[0.9164757 ],\n",
       "          [0.9164757 ],\n",
       "          [0.9164757 ],\n",
       "          ...,\n",
       "          [9.661181  ],\n",
       "          [9.584808  ],\n",
       "          [9.584808  ]],\n",
       "\n",
       "         [[0.9164757 ],\n",
       "          [0.9164757 ],\n",
       "          [0.9164757 ],\n",
       "          ...,\n",
       "          [9.661181  ],\n",
       "          [9.584808  ],\n",
       "          [9.584808  ]]],\n",
       "\n",
       "\n",
       "        [[[1.4510865 ],\n",
       "          [1.4510865 ],\n",
       "          [1.4129001 ],\n",
       "          ...,\n",
       "          [9.126571  ],\n",
       "          [9.6993685 ],\n",
       "          [9.6993685 ]],\n",
       "\n",
       "         [[1.3747135 ],\n",
       "          [1.3747135 ],\n",
       "          [1.3365271 ],\n",
       "          ...,\n",
       "          [9.164757  ],\n",
       "          [9.6993685 ],\n",
       "          [9.737555  ]],\n",
       "\n",
       "         [[1.3365271 ],\n",
       "          [1.3365271 ],\n",
       "          [1.3365271 ],\n",
       "          ...,\n",
       "          [9.737555  ],\n",
       "          [0.07637297],\n",
       "          [0.03818649]],\n",
       "\n",
       "         ...,\n",
       "\n",
       "         [[0.9164757 ],\n",
       "          [0.9164757 ],\n",
       "          [0.9164757 ],\n",
       "          ...,\n",
       "          [9.6993685 ],\n",
       "          [9.661181  ],\n",
       "          [9.661181  ]],\n",
       "\n",
       "         [[0.9164757 ],\n",
       "          [0.9164757 ],\n",
       "          [0.9164757 ],\n",
       "          ...,\n",
       "          [9.661181  ],\n",
       "          [9.622995  ],\n",
       "          [9.622995  ]],\n",
       "\n",
       "         [[0.9164757 ],\n",
       "          [0.9164757 ],\n",
       "          [0.9164757 ],\n",
       "          ...,\n",
       "          [9.661181  ],\n",
       "          [9.622995  ],\n",
       "          [9.622995  ]]],\n",
       "\n",
       "\n",
       "        ...,\n",
       "\n",
       "\n",
       "        [[[1.4129001 ],\n",
       "          [1.4129001 ],\n",
       "          [1.4129001 ],\n",
       "          ...,\n",
       "          [0.49642435],\n",
       "          [0.6491703 ],\n",
       "          [0.03818649]],\n",
       "\n",
       "         [[1.3365271 ],\n",
       "          [1.3365271 ],\n",
       "          [1.3365271 ],\n",
       "          ...,\n",
       "          [0.07637297],\n",
       "          [0.22911893],\n",
       "          [9.050198  ]],\n",
       "\n",
       "         [[1.3365271 ],\n",
       "          [1.3365271 ],\n",
       "          [1.3365271 ],\n",
       "          ...,\n",
       "          [9.432063  ],\n",
       "          [9.661181  ],\n",
       "          [9.393876  ]],\n",
       "\n",
       "         ...,\n",
       "\n",
       "         [[0.9928487 ],\n",
       "          [0.9928487 ],\n",
       "          [0.9928487 ],\n",
       "          ...,\n",
       "          [9.661181  ],\n",
       "          [9.661181  ],\n",
       "          [9.6993685 ]],\n",
       "\n",
       "         [[0.9928487 ],\n",
       "          [0.9928487 ],\n",
       "          [0.9928487 ],\n",
       "          ...,\n",
       "          [9.546622  ],\n",
       "          [9.546622  ],\n",
       "          [9.622995  ]],\n",
       "\n",
       "         [[0.9928487 ],\n",
       "          [0.9928487 ],\n",
       "          [0.9546622 ],\n",
       "          ...,\n",
       "          [9.546622  ],\n",
       "          [9.546622  ],\n",
       "          [9.622995  ]]],\n",
       "\n",
       "\n",
       "        [[[1.4892731 ],\n",
       "          [1.4892731 ],\n",
       "          [1.4510865 ],\n",
       "          ...,\n",
       "          [0.45823786],\n",
       "          [0.72554326],\n",
       "          [0.07637297]],\n",
       "\n",
       "         [[1.4129001 ],\n",
       "          [1.4129001 ],\n",
       "          [1.3747135 ],\n",
       "          ...,\n",
       "          [0.11455946],\n",
       "          [0.19093244],\n",
       "          [9.164757  ]],\n",
       "\n",
       "         [[1.3365271 ],\n",
       "          [1.3365271 ],\n",
       "          [1.2983406 ],\n",
       "          ...,\n",
       "          [9.470249  ],\n",
       "          [9.661181  ],\n",
       "          [9.35569   ]],\n",
       "\n",
       "         ...,\n",
       "\n",
       "         [[0.9928487 ],\n",
       "          [0.9928487 ],\n",
       "          [0.9546622 ],\n",
       "          ...,\n",
       "          [9.584808  ],\n",
       "          [9.661181  ],\n",
       "          [9.737555  ]],\n",
       "\n",
       "         [[0.9928487 ],\n",
       "          [0.9928487 ],\n",
       "          [0.9928487 ],\n",
       "          ...,\n",
       "          [9.508435  ],\n",
       "          [9.546622  ],\n",
       "          [9.661181  ]],\n",
       "\n",
       "         [[0.9928487 ],\n",
       "          [0.9928487 ],\n",
       "          [0.9546622 ],\n",
       "          ...,\n",
       "          [9.584808  ],\n",
       "          [9.546622  ],\n",
       "          [9.622995  ]]],\n",
       "\n",
       "\n",
       "        [[[1.4129001 ],\n",
       "          [1.4129001 ],\n",
       "          [1.3747135 ],\n",
       "          ...,\n",
       "          [0.45823786],\n",
       "          [0.72554326],\n",
       "          [0.22911893]],\n",
       "\n",
       "         [[1.3747135 ],\n",
       "          [1.3747135 ],\n",
       "          [1.3365271 ],\n",
       "          ...,\n",
       "          [0.07637297],\n",
       "          [0.26730543],\n",
       "          [9.202944  ]],\n",
       "\n",
       "         [[1.3747135 ],\n",
       "          [1.3365271 ],\n",
       "          [1.2983406 ],\n",
       "          ...,\n",
       "          [9.432063  ],\n",
       "          [9.661181  ],\n",
       "          [9.35569   ]],\n",
       "\n",
       "         ...,\n",
       "\n",
       "         [[0.9928487 ],\n",
       "          [0.9928487 ],\n",
       "          [0.9546622 ],\n",
       "          ...,\n",
       "          [9.584808  ],\n",
       "          [9.6993685 ],\n",
       "          [0.        ]],\n",
       "\n",
       "         [[0.9928487 ],\n",
       "          [0.9928487 ],\n",
       "          [0.9928487 ],\n",
       "          ...,\n",
       "          [9.546622  ],\n",
       "          [9.661181  ],\n",
       "          [9.6993685 ]],\n",
       "\n",
       "         [[0.9928487 ],\n",
       "          [0.9928487 ],\n",
       "          [0.9928487 ],\n",
       "          ...,\n",
       "          [9.622995  ],\n",
       "          [9.584808  ],\n",
       "          [9.661181  ]]]]], dtype=float32)"
      ]
     },
     "execution_count": 22,
     "metadata": {},
     "output_type": "execute_result"
    }
   ],
   "source": [
    "sample = data.as_numpy_iterator()\n",
    "val = sample.next(); val[0]"
   ]
  },
  {
   "cell_type": "code",
   "execution_count": 23,
   "id": "07b210b9",
   "metadata": {},
   "outputs": [
    {
     "name": "stderr",
     "output_type": "stream",
     "text": [
      "Lossy conversion from float32 to uint8. Range [0.0, 9.63936996459961]. Convert image to uint8 prior to saving to suppress this warning.\n",
      "Lossy conversion from float32 to uint8. Range [0.0, 9.63936996459961]. Convert image to uint8 prior to saving to suppress this warning.\n",
      "Lossy conversion from float32 to uint8. Range [0.0, 9.63936996459961]. Convert image to uint8 prior to saving to suppress this warning.\n",
      "Lossy conversion from float32 to uint8. Range [0.0, 9.63936996459961]. Convert image to uint8 prior to saving to suppress this warning.\n",
      "Lossy conversion from float32 to uint8. Range [0.0, 9.63936996459961]. Convert image to uint8 prior to saving to suppress this warning.\n",
      "Lossy conversion from float32 to uint8. Range [0.0, 9.63936996459961]. Convert image to uint8 prior to saving to suppress this warning.\n",
      "Lossy conversion from float32 to uint8. Range [0.0, 9.63936996459961]. Convert image to uint8 prior to saving to suppress this warning.\n",
      "Lossy conversion from float32 to uint8. Range [0.0, 9.63936996459961]. Convert image to uint8 prior to saving to suppress this warning.\n",
      "Lossy conversion from float32 to uint8. Range [0.0, 9.63936996459961]. Convert image to uint8 prior to saving to suppress this warning.\n",
      "Lossy conversion from float32 to uint8. Range [0.0, 9.63936996459961]. Convert image to uint8 prior to saving to suppress this warning.\n",
      "Lossy conversion from float32 to uint8. Range [0.0, 9.63936996459961]. Convert image to uint8 prior to saving to suppress this warning.\n",
      "Lossy conversion from float32 to uint8. Range [0.0, 9.63936996459961]. Convert image to uint8 prior to saving to suppress this warning.\n",
      "Lossy conversion from float32 to uint8. Range [0.0, 9.63936996459961]. Convert image to uint8 prior to saving to suppress this warning.\n",
      "Lossy conversion from float32 to uint8. Range [0.0, 9.63936996459961]. Convert image to uint8 prior to saving to suppress this warning.\n",
      "Lossy conversion from float32 to uint8. Range [0.0, 9.63936996459961]. Convert image to uint8 prior to saving to suppress this warning.\n",
      "Lossy conversion from float32 to uint8. Range [0.0, 9.63936996459961]. Convert image to uint8 prior to saving to suppress this warning.\n",
      "Lossy conversion from float32 to uint8. Range [0.0, 9.63936996459961]. Convert image to uint8 prior to saving to suppress this warning.\n",
      "Lossy conversion from float32 to uint8. Range [0.0, 9.63936996459961]. Convert image to uint8 prior to saving to suppress this warning.\n",
      "Lossy conversion from float32 to uint8. Range [0.0, 9.63936996459961]. Convert image to uint8 prior to saving to suppress this warning.\n",
      "Lossy conversion from float32 to uint8. Range [0.0, 9.63936996459961]. Convert image to uint8 prior to saving to suppress this warning.\n",
      "Lossy conversion from float32 to uint8. Range [0.0, 9.63936996459961]. Convert image to uint8 prior to saving to suppress this warning.\n",
      "Lossy conversion from float32 to uint8. Range [0.0, 9.63936996459961]. Convert image to uint8 prior to saving to suppress this warning.\n",
      "Lossy conversion from float32 to uint8. Range [0.0, 9.63936996459961]. Convert image to uint8 prior to saving to suppress this warning.\n",
      "Lossy conversion from float32 to uint8. Range [0.0, 9.63936996459961]. Convert image to uint8 prior to saving to suppress this warning.\n",
      "Lossy conversion from float32 to uint8. Range [0.0, 9.63936996459961]. Convert image to uint8 prior to saving to suppress this warning.\n",
      "Lossy conversion from float32 to uint8. Range [0.0, 9.63936996459961]. Convert image to uint8 prior to saving to suppress this warning.\n",
      "Lossy conversion from float32 to uint8. Range [0.0, 9.63936996459961]. Convert image to uint8 prior to saving to suppress this warning.\n",
      "Lossy conversion from float32 to uint8. Range [0.0, 9.63936996459961]. Convert image to uint8 prior to saving to suppress this warning.\n",
      "Lossy conversion from float32 to uint8. Range [0.0, 9.63936996459961]. Convert image to uint8 prior to saving to suppress this warning.\n",
      "Lossy conversion from float32 to uint8. Range [0.0, 9.63936996459961]. Convert image to uint8 prior to saving to suppress this warning.\n",
      "Lossy conversion from float32 to uint8. Range [0.0, 9.63936996459961]. Convert image to uint8 prior to saving to suppress this warning.\n",
      "Lossy conversion from float32 to uint8. Range [0.0, 9.63936996459961]. Convert image to uint8 prior to saving to suppress this warning.\n",
      "Lossy conversion from float32 to uint8. Range [0.0, 9.63936996459961]. Convert image to uint8 prior to saving to suppress this warning.\n",
      "Lossy conversion from float32 to uint8. Range [0.0, 9.63936996459961]. Convert image to uint8 prior to saving to suppress this warning.\n",
      "Lossy conversion from float32 to uint8. Range [0.0, 9.63936996459961]. Convert image to uint8 prior to saving to suppress this warning.\n",
      "Lossy conversion from float32 to uint8. Range [0.0, 9.63936996459961]. Convert image to uint8 prior to saving to suppress this warning.\n",
      "Lossy conversion from float32 to uint8. Range [0.0, 9.63936996459961]. Convert image to uint8 prior to saving to suppress this warning.\n",
      "Lossy conversion from float32 to uint8. Range [0.0, 9.63936996459961]. Convert image to uint8 prior to saving to suppress this warning.\n",
      "Lossy conversion from float32 to uint8. Range [0.0, 9.63936996459961]. Convert image to uint8 prior to saving to suppress this warning.\n",
      "Lossy conversion from float32 to uint8. Range [0.0, 9.63936996459961]. Convert image to uint8 prior to saving to suppress this warning.\n",
      "Lossy conversion from float32 to uint8. Range [0.0, 9.63936996459961]. Convert image to uint8 prior to saving to suppress this warning.\n",
      "Lossy conversion from float32 to uint8. Range [0.0, 9.63936996459961]. Convert image to uint8 prior to saving to suppress this warning.\n",
      "Lossy conversion from float32 to uint8. Range [0.0, 9.63936996459961]. Convert image to uint8 prior to saving to suppress this warning.\n",
      "Lossy conversion from float32 to uint8. Range [0.0, 9.63936996459961]. Convert image to uint8 prior to saving to suppress this warning.\n",
      "Lossy conversion from float32 to uint8. Range [0.0, 9.63936996459961]. Convert image to uint8 prior to saving to suppress this warning.\n",
      "Lossy conversion from float32 to uint8. Range [0.0, 9.63936996459961]. Convert image to uint8 prior to saving to suppress this warning.\n",
      "Lossy conversion from float32 to uint8. Range [0.0, 9.63936996459961]. Convert image to uint8 prior to saving to suppress this warning.\n",
      "Lossy conversion from float32 to uint8. Range [0.0, 9.63936996459961]. Convert image to uint8 prior to saving to suppress this warning.\n",
      "Lossy conversion from float32 to uint8. Range [0.0, 9.63936996459961]. Convert image to uint8 prior to saving to suppress this warning.\n",
      "Lossy conversion from float32 to uint8. Range [0.0, 9.63936996459961]. Convert image to uint8 prior to saving to suppress this warning.\n",
      "Lossy conversion from float32 to uint8. Range [0.0, 9.63936996459961]. Convert image to uint8 prior to saving to suppress this warning.\n",
      "Lossy conversion from float32 to uint8. Range [0.0, 9.63936996459961]. Convert image to uint8 prior to saving to suppress this warning.\n",
      "Lossy conversion from float32 to uint8. Range [0.0, 9.63936996459961]. Convert image to uint8 prior to saving to suppress this warning.\n",
      "Lossy conversion from float32 to uint8. Range [0.0, 9.63936996459961]. Convert image to uint8 prior to saving to suppress this warning.\n",
      "Lossy conversion from float32 to uint8. Range [0.0, 9.63936996459961]. Convert image to uint8 prior to saving to suppress this warning.\n",
      "Lossy conversion from float32 to uint8. Range [0.0, 9.63936996459961]. Convert image to uint8 prior to saving to suppress this warning.\n",
      "Lossy conversion from float32 to uint8. Range [0.0, 9.63936996459961]. Convert image to uint8 prior to saving to suppress this warning.\n",
      "Lossy conversion from float32 to uint8. Range [0.0, 9.63936996459961]. Convert image to uint8 prior to saving to suppress this warning.\n",
      "Lossy conversion from float32 to uint8. Range [0.0, 9.63936996459961]. Convert image to uint8 prior to saving to suppress this warning.\n",
      "Lossy conversion from float32 to uint8. Range [0.0, 9.63936996459961]. Convert image to uint8 prior to saving to suppress this warning.\n",
      "Lossy conversion from float32 to uint8. Range [0.0, 9.63936996459961]. Convert image to uint8 prior to saving to suppress this warning.\n"
     ]
    },
    {
     "name": "stderr",
     "output_type": "stream",
     "text": [
      "Lossy conversion from float32 to uint8. Range [0.0, 9.63936996459961]. Convert image to uint8 prior to saving to suppress this warning.\n",
      "Lossy conversion from float32 to uint8. Range [0.0, 9.63936996459961]. Convert image to uint8 prior to saving to suppress this warning.\n",
      "Lossy conversion from float32 to uint8. Range [0.0, 9.63936996459961]. Convert image to uint8 prior to saving to suppress this warning.\n",
      "Lossy conversion from float32 to uint8. Range [0.0, 9.63936996459961]. Convert image to uint8 prior to saving to suppress this warning.\n",
      "Lossy conversion from float32 to uint8. Range [0.0, 9.63936996459961]. Convert image to uint8 prior to saving to suppress this warning.\n",
      "Lossy conversion from float32 to uint8. Range [0.0, 9.63936996459961]. Convert image to uint8 prior to saving to suppress this warning.\n",
      "Lossy conversion from float32 to uint8. Range [0.0, 9.63936996459961]. Convert image to uint8 prior to saving to suppress this warning.\n",
      "Lossy conversion from float32 to uint8. Range [0.0, 9.63936996459961]. Convert image to uint8 prior to saving to suppress this warning.\n",
      "Lossy conversion from float32 to uint8. Range [0.0, 9.63936996459961]. Convert image to uint8 prior to saving to suppress this warning.\n",
      "Lossy conversion from float32 to uint8. Range [0.0, 9.63936996459961]. Convert image to uint8 prior to saving to suppress this warning.\n",
      "Lossy conversion from float32 to uint8. Range [0.0, 9.63936996459961]. Convert image to uint8 prior to saving to suppress this warning.\n",
      "Lossy conversion from float32 to uint8. Range [0.0, 9.63936996459961]. Convert image to uint8 prior to saving to suppress this warning.\n",
      "Lossy conversion from float32 to uint8. Range [0.0, 9.63936996459961]. Convert image to uint8 prior to saving to suppress this warning.\n",
      "Lossy conversion from float32 to uint8. Range [0.0, 9.63936996459961]. Convert image to uint8 prior to saving to suppress this warning.\n"
     ]
    }
   ],
   "source": [
    "imageio.mimsave('./animation.gif', val[0][0], fps=10)"
   ]
  },
  {
   "cell_type": "code",
   "execution_count": 24,
   "id": "b1a7e0fb",
   "metadata": {},
   "outputs": [
    {
     "data": {
      "text/plain": [
       "<matplotlib.image.AxesImage at 0x266a6229f40>"
      ]
     },
     "execution_count": 24,
     "metadata": {},
     "output_type": "execute_result"
    },
    {
     "data": {
      "image/png": "[encoded data removed]",
      "text/plain": [
       "<Figure size 640x480 with 1 Axes>"
      ]
     },
     "metadata": {},
     "output_type": "display_data"
    }
   ],
   "source": [
    "# 0:videos, 0: 1st video out of the batch,  0: return the first frame in the video \n",
    "plt.imshow(val[0][0][35])"
   ]
  },
  {
   "cell_type": "code",
   "execution_count": 25,
   "id": "aa6a8443",
   "metadata": {},
   "outputs": [
    {
     "data": {
      "text/plain": [
       "<tf.Tensor: shape=(), dtype=string, numpy=b'lay blue with y seven soon'>"
      ]
     },
     "execution_count": 25,
     "metadata": {},
     "output_type": "execute_result"
    }
   ],
   "source": [
    "tf.strings.reduce_join([num_to_char(word) for word in val[1][0]])"
   ]
  },
  {
   "cell_type": "code",
   "execution_count": 26,
   "id": "19d39851",
   "metadata": {},
   "outputs": [],
   "source": [
    "from tensorflow.keras.models import Sequential \n",
    "from tensorflow.keras.layers import Conv3D, LSTM, Dense, Dropout, Bidirectional, MaxPool3D, Activation, Reshape, SpatialDropout3D, BatchNormalization, TimeDistributed, Flatten\n",
    "from tensorflow.keras.optimizers import Adam\n",
    "from tensorflow.keras.callbacks import ModelCheckpoint, LearningRateScheduler"
   ]
  },
  {
   "cell_type": "code",
   "execution_count": 27,
   "id": "418a3209",
   "metadata": {},
   "outputs": [
    {
     "data": {
      "text/plain": [
       "(75, 46, 140, 1)"
      ]
     },
     "execution_count": 27,
     "metadata": {},
     "output_type": "execute_result"
    }
   ],
   "source": [
    "data.as_numpy_iterator().next()[0][0].shape"
   ]
  },
  {
   "cell_type": "code",
   "execution_count": 28,
   "id": "2f95c3eb",
   "metadata": {},
   "outputs": [],
   "source": [
    "model = Sequential()\n",
    "model.add(Conv3D(128, 3, input_shape=(75,46,140,1), padding='same'))\n",
    "model.add(Activation('relu'))\n",
    "model.add(MaxPool3D((1,2,2)))\n",
    "\n",
    "model.add(Conv3D(256, 3, padding='same'))\n",
    "model.add(Activation('relu'))\n",
    "model.add(MaxPool3D((1,2,2)))\n",
    "\n",
    "model.add(Conv3D(75, 3, padding='same'))\n",
    "model.add(Activation('relu'))\n",
    "model.add(MaxPool3D((1,2,2)))\n",
    "\n",
    "model.add(TimeDistributed(Flatten()))\n",
    "\n",
    "model.add(Bidirectional(LSTM(128, kernel_initializer='Orthogonal', return_sequences=True)))\n",
    "model.add(Dropout(.5))\n",
    "\n",
    "model.add(Bidirectional(LSTM(128, kernel_initializer='Orthogonal', return_sequences=True)))\n",
    "model.add(Dropout(.5))\n",
    "\n",
    "model.add(Dense(char_to_num.vocabulary_size()+1, kernel_initializer='he_normal', activation='softmax'))\n"
   ]
  },
  {
   "cell_type": "code",
   "execution_count": 29,
   "id": "ac2d2756",
   "metadata": {},
   "outputs": [
    {
     "name": "stdout",
     "output_type": "stream",
     "text": [
      "Model: \"sequential\"\n",
      "_________________________________________________________________\n",
      " Layer (type)                Output Shape              Param #   \n",
      "=================================================================\n",
      " conv3d (Conv3D)             (None, 75, 46, 140, 128)  3584      \n",
      "                                                                 \n",
      " activation (Activation)     (None, 75, 46, 140, 128)  0         \n",
      "                                                                 \n",
      " max_pooling3d (MaxPooling3D  (None, 75, 23, 70, 128)  0         \n",
      " )                                                               \n",
      "                                                                 \n",
      " conv3d_1 (Conv3D)           (None, 75, 23, 70, 256)   884992    \n",
      "                                                                 \n",
      " activation_1 (Activation)   (None, 75, 23, 70, 256)   0         \n",
      "                                                                 \n",
      " max_pooling3d_1 (MaxPooling  (None, 75, 11, 35, 256)  0         \n",
      " 3D)                                                             \n",
      "                                                                 \n",
      " conv3d_2 (Conv3D)           (None, 75, 11, 35, 75)    518475    \n",
      "                                                                 \n",
      " activation_2 (Activation)   (None, 75, 11, 35, 75)    0         \n",
      "                                                                 \n",
      " max_pooling3d_2 (MaxPooling  (None, 75, 5, 17, 75)    0         \n",
      " 3D)                                                             \n",
      "                                                                 \n",
      " time_distributed (TimeDistr  (None, 75, 6375)         0         \n",
      " ibuted)                                                         \n",
      "                                                                 \n",
      " bidirectional (Bidirectiona  (None, 75, 256)          6660096   \n",
      " l)                                                              \n",
      "                                                                 \n",
      " dropout (Dropout)           (None, 75, 256)           0         \n",
      "                                                                 \n",
      " bidirectional_1 (Bidirectio  (None, 75, 256)          394240    \n",
      " nal)                                                            \n",
      "                                                                 \n",
      " dropout_1 (Dropout)         (None, 75, 256)           0         \n",
      "                                                                 \n",
      " dense (Dense)               (None, 75, 41)            10537     \n",
      "                                                                 \n",
      "=================================================================\n",
      "Total params: 8,471,924\n",
      "Trainable params: 8,471,924\n",
      "Non-trainable params: 0\n",
      "_________________________________________________________________\n"
     ]
    }
   ],
   "source": [
    "model.summary()"
   ]
  },
  {
   "cell_type": "code",
   "execution_count": 30,
   "id": "e7a740b5",
   "metadata": {},
   "outputs": [
    {
     "name": "stdout",
     "output_type": "stream",
     "text": [
      "1/1 [==============================] - 5s 5s/step\n"
     ]
    }
   ],
   "source": [
    "yhat = model.predict(val[0])"
   ]
  },
  {
   "cell_type": "code",
   "execution_count": 31,
   "id": "6c7fbe20",
   "metadata": {},
   "outputs": [
    {
     "data": {
      "text/plain": [
       "<tf.Tensor: shape=(), dtype=string, numpy=b'yyyyyyyyyyyyyyyyyyyyyyyyyyyyyyyyyyyyyyyyyyyyyyyyyyyyyyyyyyyyyyyyyyyyyyyyyuu'>"
      ]
     },
     "execution_count": 31,
     "metadata": {},
     "output_type": "execute_result"
    }
   ],
   "source": [
    "tf.strings.reduce_join([num_to_char(x) for x in tf.argmax(yhat[0],axis=1)])"
   ]
  },
  {
   "cell_type": "code",
   "execution_count": 32,
   "id": "1b76c0cb",
   "metadata": {},
   "outputs": [
    {
     "data": {
      "text/plain": [
       "<tf.Tensor: shape=(), dtype=string, numpy=b'yyyyyyyyyyyyyyyyyyyyyyyyyyyyyyyyyyyyyyyyyyyyyyyyyyyyyyyyyyyyyyyyyyyyyyyyyuu'>"
      ]
     },
     "execution_count": 32,
     "metadata": {},
     "output_type": "execute_result"
    }
   ],
   "source": [
    "tf.strings.reduce_join([num_to_char(tf.argmax(x)) for x in yhat[0]])"
   ]
  },
  {
   "cell_type": "code",
   "execution_count": 33,
   "id": "72d63119",
   "metadata": {},
   "outputs": [
    {
     "data": {
      "text/plain": [
       "(None, 75, 46, 140, 1)"
      ]
     },
     "execution_count": 33,
     "metadata": {},
     "output_type": "execute_result"
    }
   ],
   "source": [
    "model.input_shape"
   ]
  },
  {
   "cell_type": "code",
   "execution_count": 34,
   "id": "c1d95ebe",
   "metadata": {},
   "outputs": [
    {
     "data": {
      "text/plain": [
       "(None, 75, 41)"
      ]
     },
     "execution_count": 34,
     "metadata": {},
     "output_type": "execute_result"
    }
   ],
   "source": [
    "model.output_shape"
   ]
  },
  {
   "cell_type": "code",
   "execution_count": null,
   "id": "798f5eda",
   "metadata": {},
   "outputs": [],
   "source": []
  }
 ],
 "metadata": {
  "kernelspec": {
   "display_name": "Python 3 (ipykernel)",
   "language": "python",
   "name": "python3"
  },
  "language_info": {
   "codemirror_mode": {
    "name": "ipython",
    "version": 3
   },
   "file_extension": ".py",
   "mimetype": "text/x-python",
   "name": "python",
   "nbconvert_exporter": "python",
   "pygments_lexer": "ipython3",
   "version": "3.9.13"
  }
 },
 "nbformat": 4,
 "nbformat_minor": 5
}
